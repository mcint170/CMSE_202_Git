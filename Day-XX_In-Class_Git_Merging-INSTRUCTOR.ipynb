{
 "cells": [
  {
   "cell_type": "markdown",
   "metadata": {},
   "source": [
    "###ANSWER\n",
    "(for making sure this gets removed)\n",
    "\n",
    "### INSTRUCTOR CONTENT -- REMOVE THIS IN STUDENT VERSION\n",
    "#### The goals for this class are:\n",
    "\n",
    "* The **main goal** is ...\n",
    "* Students tend to get hung for a while on ...\n",
    "* Some students will end ... . **This is not the purpose of the assignment**. You should try to encourage them to really ... \n",
    "* One tricky bit is whether or not students are able to...\n",
    "* **IMPORTANT NOTE**: ..."
   ]
  },
  {
   "cell_type": "markdown",
   "metadata": {},
   "source": [
    "## <p style=\"text-align: right;\"> &#9989; Put your name here</p>\n",
    "#### <p style=\"text-align: right;\"> &#9989; Put your group member names here</p>"
   ]
  },
  {
   "cell_type": "markdown",
   "metadata": {},
   "source": [
    "# Day XX In-Class Assignment: Git Merging\n",
    "\n",
    "<img src=\"https://git-scm.com/images/logos/downloads/Git-Logo-2Color.png\" width=400px>\n",
    "* This assignment is based off content created by Dr. Dirk Colbry"
   ]
  },
  {
   "cell_type": "markdown",
   "metadata": {},
   "source": [
    "\n",
    "\n",
    "### Learning goals:\n",
    "\n",
    "By the end of this assignment, you should be able to:\n",
    "\n",
    "* Be comfotable using Git Branches\n",
    "* Solve merge conflicts of files using merging and Branches\n",
    "* Be able to navigate commit hash's and bring back a older verison of a file through merging\n",
    "\n",
    "\n",
    "\n",
    "# Problem Description\n",
    "We will learn how to yeild another powerful tool of git, that can make some manuevers even easier. The ability to utilize branches can help keep code cleaner and have a more sepearte work flow."
   ]
  },
  {
   "cell_type": "markdown",
   "metadata": {},
   "source": [
    "### Agenda for today's class\n",
    "\n",
    "</p>\n",
    "\n",
    "1. Pre-class assignment review\n",
    "1. Cloning a repository and \n",
    "1. Picking the best Feature Vectors\n",
    "1. Eigenfaces (just for fun -- and knowledge!)\n"
   ]
  },
  {
   "cell_type": "markdown",
   "metadata": {},
   "source": [
    "To Do:\n",
    "* Use Git Bisect and Branching\n",
    "* Use git pull merge\n",
    "* Setup something that mimics CMSE202 assignements"
   ]
  },
  {
   "cell_type": "markdown",
   "metadata": {},
   "source": [
    "---\n",
    "# 1: Pre-class assignment review\n",
    "\n",
    "Did anyone have any specific issues with the pre-class assignment?\n",
    "\n",
    "Let's take a moment to highlight some key concepts. Discuss with your table the following prompts and write down a brief definition of each of these concepts.\n",
    "\n",
    "**Question:** Discuss what we are referring to when we say \"repository\".\n",
    "\n",
    "&#9989; Do This -  Write your disussion notes here.\n",
    "\n",
    "**Question:** Discuss what we mean by \"version history\" and \"version control\"\n",
    "\n",
    "&#9989; Do This -  Write your disussion notes here.\n",
    "\n",
    "**Question:** Discuss the difference between `git add`, `git commit`, and `git push`\n",
    "\n",
    "&#9989; Do This -  Write your disussion notes here.\n",
    "\n",
    "**Question:** Discuss what you must do to `.ipynb` notebook files before adding and commiting them.\n",
    "\n",
    "&#9989; Do This -  Write your disussion notes here.\n"
   ]
  },
  {
   "cell_type": "markdown",
   "metadata": {},
   "source": [
    "*Below are all of the important commands we learned in the pre-class assignment. Please review these and if any were unclear to you please ask.*\n",
    "\n",
    "```\n",
    "cd [NAME_OF_FOLDER_CREATED]\n",
    "cd -  -->  (Moves back to previous directory you just came from and prints that directories name)\n",
    "ls\n",
    "pwd\n",
    "clear\n",
    "jupyter notebook\n",
    "cp [FILENAME] [NEW_FILENAME]\n",
    "rm [FILENAME]\n",
    "cat [FILENEAME]\n",
    "cat > [FILENAME] --> (Shortcut way of creating new file and adding text to it)\n",
    "vi [FILENAME]  -->  (Opens file in Vim text editor)\n",
    "git config --global user.name \"Your name here\"\n",
    "git config --global user.email \"your_email@example.com\"\n",
    "git status\n",
    "git log\n",
    "git checkout [HASH]\n",
    "git checkout master\n",
    "git checkout [FILENAME]\n",
    "git pull\n",
    "git fetch origin\n",
    "git diff [FILENAME]\n",
    "git init .\n",
    "git add [FILENAME]\n",
    "git add [FOLDERNAME]/[FILENAME]  -->  (You can add files that are inside of other folders)\n",
    "git commit -m \"[COMMIT_MESSAGE]\"\n",
    "git reset\n",
    "git push\n",
    "```"
   ]
  },
  {
   "cell_type": "markdown",
   "metadata": {},
   "source": [
    "---\n",
    "# 2: Cloning a repository and viewing its history\n",
    "The Github platfrom is a powerful space where there exists both public and private repositories ranging across many different topics. Many repositories are free to be cloned at anytime, and often many contain useful tools or tutorials. Lets explore a few.\n",
    " \n",
    "&#9989; Do This - Change current working directory to \"~/CMSE202/repos\" (remember `cd` is the change directory command) and run the following commands:  \n",
    "\n",
    "`git clone https://github.com/fperez/science-journal-demo`\n",
    "\n",
    "`cd science-journal-demo`\n",
    "\n",
    "`jupyter notebook` (If you are using JupyterHub you cannot do this, you will need to navigate to this folder from your home tree)\n",
    "\n",
    "**Question 1:** What does this git repository do?"
   ]
  },
  {
   "cell_type": "markdown",
   "metadata": {},
   "source": [
    "<font size=8 color=\"#009600\">&#9998;</font> Do This - Erase the contents of this cell and replace it with your answer to the above question!  (double-click on this text to edit this cell, and hit shift+enter to save the text)"
   ]
  },
  {
   "cell_type": "markdown",
   "metadata": {},
   "source": [
    "**Question 2:** As a group, brainstorm things you could do with the tools provided in the \"science-journal\" demo.  "
   ]
  },
  {
   "cell_type": "markdown",
   "metadata": {},
   "source": [
    "<font size=8 color=\"#009600\">&#9998;</font> Do This - Erase the contents of this cell and replace it with your answer to the above question!  (double-click on this text to edit this cell, and hit shift+enter to save the text)"
   ]
  },
  {
   "cell_type": "markdown",
   "metadata": {},
   "source": [
    "**Question 3:** Using `git log`, at what moment in time (Day Date Hour:Min:Sec Year) was this repostiory first created?"
   ]
  },
  {
   "cell_type": "markdown",
   "metadata": {},
   "source": [
    "<font size=8 color=\"#009600\">&#9998;</font>  Do This - Erase the contents of this cell and replace it with your answer to the above question!"
   ]
  },
  {
   "cell_type": "markdown",
   "metadata": {},
   "source": [
    "---\n",
    "# 3: Forking a Repository and Collaborating with Others\n",
    "\n",
    "Part 1:\n",
    "* Someone from the group (who can share their screen) is elected leader\n",
    "* The leader starts sharing thier screen\n",
    "* The leader forks a repository that has a ipynb notebook in it, a folder for names, and folder that will be used later for version control\n",
    "* The leader then invites everyone in group to the forked repository\n",
    "* Everyone in the group needs to clone repository into `~/CMSE202/repos`\n",
    "\n",
    "Part 2:\n",
    "* Inform them of this work flow to have success\n",
    "    * Always git pull first\n",
    "    * Then git add, commit -m, git push\n",
    "* Create a file that is your frist name, and edit it to have your favorite color.\n",
    "* Add that file to the repository under the folder for names, commit it, then push\n",
    "* When everyone is done, have them git pull and see all the files\n",
    "* Use `ls` on the repository to see all the files that were added\n",
    "\n",
    "Part 3:\n",
    "* Inform them of the work flow to have success\n",
    "    * When you are ready to try to upload your changes you must first and ALWAYS use Kernel -> Restart & Clear Output -> Then wait for that to finish (shouldn't take long) then save the file\n",
    "    * Always git pull first\n",
    "    * If you get an error (which you should unless you are the first person), use git diff to see the changes. Confirm that changes were made to other parts of code, if you see someone forgot to clear thier output before submitting politely let them know\n",
    "    * Use copy command `cp` to copy your current file to the same file name but with a tail to know it is your copy `[FILENAME]_[YOUR_INTITALS]`\n",
    "    * Use git checkout the file, then git pull. You should be successful\n",
    "    * Then go back to the file and update the file with your changes to your part\n",
    "    * Then try git pull again, if you get a conflict you have to repeat the whole process again until you conflict free\n",
    "    * Then inform everyone that you are about to commit ( and during this time no one else should try to commit)\n",
    "    * Add Commit  and Push changes.\n",
    "* Have them edit a notebook in different parts (to avoid to confusing of conflict)\n",
    "* When everyone is finsihed, everyone should git pull. Then and only then can people move onto the next part. Work as group otherwise you will run into bad problems in the next part.\n",
    "\n",
    "Things to be done\n",
    "* Create a repository that has the following\n",
    "    * Bugs or something??? --> Still need to figure that out\n",
    "* Each student fills out the `.ipnyb` notebook and does thier own thing.\n",
    "* Then each student pull's, add's, and commmits. And the ones that submitted first who got no error has to go back and do something\n",
    "    * Look into how the names work and how merge conlficts work and how they work with .ipynb\n",
    "    \n"
   ]
  },
  {
   "cell_type": "markdown",
   "metadata": {},
   "source": [
    "One of the most powerful parts of Git is the ability to work in a group on the same repository. "
   ]
  },
  {
   "cell_type": "markdown",
   "metadata": {},
   "source": [
    "---\n",
    "# 4: Version Control\n",
    "\n",
    "Part 1:\n",
    "* Using github, those that did not fork the repository to begin with must fork the repository that they were just working on.\n",
    "* Then they have to clone the repository into `~/CMSE202/repos`, however they also need to give the repository a different name than the first. They can use the commmand `git clone [URL] [NEW_NAME]` The new name should be the original name with addition of `_[FIRST_NAME]`. So `git clone [URL] ORIGINAL_FOLDER_NAME_Brandon`.\n",
    "\n",
    "Part 2:  \n",
    "* Using `git log` they must search through the logs in order to find the commit **That is right before** the commit titled `Deleted Regression Data` and copy the hash number.\n",
    "* Then using `git checkout` they must checkout the whole repository from that time.\n",
    "* Then they should open the `.ipynb` from that time and look at the regression plot, and see how they loaded in the data and see where the data was located.\n",
    "* Then noting this down they should return back to the current commit.\n",
    "* Then they need to copy thier current ipynb file and save it as a new file.\n",
    "* Then using git checkout, the checkout hash that they use earlier and the location of the data, pull the data into the future.\n",
    "* If they want they can also pull the ipynb into the future as well in order to compare the code against their notebook. They then have to update their copied notebook to match the old notebook in order to get the regression plot running.\n",
    "* Then they can use git checkout master .ipynb to bring back current notebook. Then copying from their copied notebook they can update the ipynb.\n",
    "* Once done, they then can git add, commit, and push the final ipnb and regression data into the repository.\n",
    "\n",
    "Things to be done\n",
    "* Use the repository cloned earlier, but have another folder that they don't touch  \n",
    "    * Maybe have them create thier own folder and copy the file so they can push and stuff with no issues? Also they can practice git add FOLDER/FILE  \n",
    "* Have the file broken\n",
    "* Have them checkout the broken commit and discuss what it does\n",
    "* THen have them go back to master\n",
    "* Then checkout the file then, copy and rename it.\n",
    "* Then the person that didn't do a commit earlier updates this file?\n",
    "* Then those that did a merge conflict before create their own folder\n",
    "* Then have them edit with thier name and info and have them add commit and push.\n",
    "* Then copy and paste the repository and all into thier CMSE202-turnin- and add and commit that"
   ]
  },
  {
   "cell_type": "markdown",
   "metadata": {},
   "source": [
    "----\n",
    "# 5. More Git practice: Git repository \"Round Robin\"\n",
    "**If time allows**, work through this activity. In this activity you'll be continuing to play around with Git and to get some practice for future homeworks."
   ]
  },
  {
   "cell_type": "markdown",
   "metadata": {},
   "source": [
    "**Step 1:** Go to [http://github.com/]() individually create a git repository.  Call this repository USERNAME_git_test where USERNAME is your MSUNetID. **Important**: if you haven't gained access to the GitHub [Student Pack](https://education.github.com/pack) yet, make sure to submit that request now."
   ]
  },
  {
   "cell_type": "markdown",
   "metadata": {},
   "source": [
    "<font size=6 color=\"#009600\">&#9998;</font> Note any problems you had with the above step (or any questions) here."
   ]
  },
  {
   "cell_type": "markdown",
   "metadata": {},
   "source": [
    "**Step 2:** Clone the repository into your CMSE202/repositories directory. The repository is probably still empty so you will get a warning."
   ]
  },
  {
   "cell_type": "markdown",
   "metadata": {},
   "source": [
    "<font size=6 color=\"#009600\">&#9998;</font> Note any problems you had with the above step (or any questions) here."
   ]
  },
  {
   "cell_type": "markdown",
   "metadata": {},
   "source": [
    "**Step 3:** Create a new text file (Name the file README.md or README.txt) inside of the repository folder. Include the following information in the readme file:\n",
    "\n",
    "* Name\n",
    "* Email Address\n",
    "* What is your major? \n",
    "* What year are you in School?\n",
    "* Where are you from?\n",
    "* What is your programming background?\n"
   ]
  },
  {
   "cell_type": "markdown",
   "metadata": {},
   "source": [
    "<font size=6 color=\"#009600\">&#9998;</font> Note any problems you had with the above step (or any questions) here."
   ]
  },
  {
   "cell_type": "markdown",
   "metadata": {},
   "source": [
    "**Step 4:** Add and commit the change to your repository.  Make sure you push the change to the central repository. "
   ]
  },
  {
   "cell_type": "markdown",
   "metadata": {},
   "source": [
    "<font size=6 color=\"#009600\">&#9998;</font> Note any problems you had with the above step (or any questions) here."
   ]
  },
  {
   "cell_type": "markdown",
   "metadata": {},
   "source": [
    "**Step 5:** Check the website and make sure you see the file and can access it. "
   ]
  },
  {
   "cell_type": "markdown",
   "metadata": {},
   "source": [
    "<font size=6 color=\"#009600\">&#9998;</font> Note any problems you had with the above step (or any questions) here."
   ]
  },
  {
   "cell_type": "markdown",
   "metadata": {},
   "source": [
    "**Step 6:** Add 2 of your groupmates and the instructors to the project using the web interface. To do this, go to the repository settings tab and look for the section labeled \"Collaborators & teams\". Make sure that each collaborator has \"Write\" access."
   ]
  },
  {
   "cell_type": "markdown",
   "metadata": {},
   "source": [
    "<font size=6 color=\"#009600\">&#9998;</font> Note any problems you had with the above step (or any questions) here."
   ]
  },
  {
   "cell_type": "markdown",
   "metadata": {},
   "source": [
    "**Step 7:** Have you groupmates clone your repository and clone the repositories that you've been added to."
   ]
  },
  {
   "cell_type": "markdown",
   "metadata": {},
   "source": [
    "<font size=6 color=\"#009600\">&#9998;</font> Note any problems you had with the above step (or any questions) here."
   ]
  },
  {
   "cell_type": "markdown",
   "metadata": {},
   "source": [
    "**Step 8:** Add your name and email address to the next available line in the README file for each of your groupmates repositories. "
   ]
  },
  {
   "cell_type": "markdown",
   "metadata": {},
   "source": [
    "<font size=6 color=\"#009600\">&#9998;</font> Note any problems you had with the above step (or any questions) here."
   ]
  },
  {
   "cell_type": "markdown",
   "metadata": {},
   "source": [
    "**Step 9:** Add and Commit your change to the server.  NOTE: this step may be tricky if more then one member of the group tries to change the same file at the same time.  This happens often when working with Git repositories! Your job is to manage the file conflicts."
   ]
  },
  {
   "cell_type": "markdown",
   "metadata": {},
   "source": [
    "<font size=6 color=\"#009600\">&#9998;</font> Note any problems you had with the above step (or any questions) here."
   ]
  },
  {
   "cell_type": "markdown",
   "metadata": {},
   "source": [
    "**Step 10:** Do a git pull for all of your repositories.  If done correctly, each repository will have the names and emails for all of the team members in the README file.  "
   ]
  },
  {
   "cell_type": "markdown",
   "metadata": {},
   "source": [
    "<font size=6 color=\"#009600\">&#9998;</font> Note any problems you had with the above step (or any questions) here."
   ]
  },
  {
   "cell_type": "markdown",
   "metadata": {},
   "source": [
    "**Question:** What command(s) should the instructor use to download your group repositories? "
   ]
  },
  {
   "cell_type": "markdown",
   "metadata": {},
   "source": [
    "<font size=8 color=\"#009600\">&#9998;</font> Do This - Erase the contents of this cell and replace it with your answer to the above question!  (double-click on this text to edit this cell, and hit shift+enter to save the text)"
   ]
  },
  {
   "cell_type": "markdown",
   "metadata": {},
   "source": [
    "-----\n",
    "### Congratulations, we're done!\n",
    "\n",
    "Now, you just need to submit this assignment by uploading it to the course <a href=\"https://d2l.msu.edu/\">Desire2Learn</a> web page for today's submission folder (Don't forget to add your names in the first cell)."
   ]
  },
  {
   "cell_type": "markdown",
   "metadata": {},
   "source": [
    "&#169; Copyright FIX_ME,  Michigan State University Board of Trustees??"
   ]
  }
 ],
 "metadata": {
  "kernelspec": {
   "display_name": "Python 3",
   "language": "python",
   "name": "python3"
  },
  "language_info": {
   "codemirror_mode": {
    "name": "ipython",
    "version": 3
   },
   "file_extension": ".py",
   "mimetype": "text/x-python",
   "name": "python",
   "nbconvert_exporter": "python",
   "pygments_lexer": "ipython3",
   "version": "3.7.7"
  }
 },
 "nbformat": 4,
 "nbformat_minor": 4
}
