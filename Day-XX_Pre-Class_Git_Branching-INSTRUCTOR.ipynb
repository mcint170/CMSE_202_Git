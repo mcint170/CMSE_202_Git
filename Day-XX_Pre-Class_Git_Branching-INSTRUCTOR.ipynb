{
 "cells": [
  {
   "cell_type": "markdown",
   "metadata": {},
   "source": [
    "###ANSWER\n",
    "(for making sure this gets removed)\n",
    "\n",
    "### INSTRUCTOR CONTENT -- REMOVE THIS IN STUDENT VERSION\n",
    "#### The goals for this class are:\n",
    "\n",
    "* The **main goal** is ...\n",
    "* Students tend to get hung for a while on ...\n",
    "* Some students will end ... . **This is not the purpose of the assignment**. You should try to encourage them to really ... \n",
    "* One tricky bit is whether or not students are able to...\n",
    "* **IMPORTANT NOTE**: ..."
   ]
  },
  {
   "cell_type": "markdown",
   "metadata": {},
   "source": [
    "## <p style=\"text-align: right;\"> &#9989; Put your name here</p>\n",
    "#### <p style=\"text-align: right;\"> &#9989; Put your group member names here</p>"
   ]
  },
  {
   "cell_type": "markdown",
   "metadata": {},
   "source": [
    "# Day XX Pre-Class Assignment: Git Branching\n",
    "\n",
    "<img src=\"https://git-scm.com/images/logos/downloads/Git-Logo-2Color.png\" width=400px>\n",
    "* This assignment is based off content created by Dr. Dirk Colbry"
   ]
  },
  {
   "cell_type": "markdown",
   "metadata": {},
   "source": [
    "## Goals for today's pre-class assignment \n",
    "\n",
    "1. Learn the basics of Git branching and how it works.\n",
    "2. Understand how to create and manage git branches.\n",
    "3. [INSERT_ACTIVITY].\n",
    "\n",
    "## Assignment instructions\n",
    "**This assignment is due by 11:59 p.m. the day before class** and should be uploaded into the appropriate \"Pre-class assignments\" submission folder in the Desire2Learn website.\n"
   ]
  },
  {
   "cell_type": "markdown",
   "metadata": {},
   "source": [
    "---\n",
    "# 1: Your First Branch\n",
    "Branches are a powerful and important tool when using git. However, it possible to use git without ever touching branches. You don't need them per-say, but once you understand how they work you can see their power and will find ways to use them all the time (sort of like git itself).\n",
    "\n",
    "**Video:** Watch the following video for a brief overview git branching and a demo of creating a new branch:  "
   ]
  },
  {
   "cell_type": "code",
   "execution_count": null,
   "metadata": {
    "scrolled": false
   },
   "outputs": [],
   "source": [
    "from IPython.display import YouTubeVideo\n",
    "from datetime import timedelta\n",
    "YouTubeVideo(\"X0jbrdemjjs\",width=640,height=360)"
   ]
  },
  {
   "cell_type": "markdown",
   "metadata": {},
   "source": [
    " **Summary**: Here are the commands that were used in the video.  \n",
    " ```\n",
    " git branch [BRANCHNAME]\n",
    " git checkout [BRANCHNAME]\n",
    " git add [NEWFILE]\n",
    " git commit -m \"[MESSAGE]\"\n",
    " git checkout master\n",
    " git status\n",
    " git pull\n",
    " clear\n",
    " git branch\n",
    " vi [FILENAME]\n",
    " cat > [NEWFILE]  (Use ctrl + d to exit out of file editing)\n",
    " git add [FILE1] [FILE2]  (You can add more than one file at time)\n",
    " ```\n",
    "\n",
    "Branches are where you should do your work. Branches are a safe place to store changes to files. Anytime you want to change files you should make sure you are making and committing those changes to a branch.\n",
    "\n",
    "To create a branch just type the following:  \n",
    "`git branch [BRANCHNAME]`  \n",
    "Once you have a branch you can list all of your branches (including the default \"master\" branch) and see which one you are on using the following command:  \n",
    "`git branch`  \n",
    "To switch between branches just use the git checkout command with the BRANCHNAME:  \n",
    "`git checkout [BRANCHNAME]`  "
   ]
  },
  {
   "cell_type": "markdown",
   "metadata": {},
   "source": [
    "**Try this**: \n",
    "* Log into your github account at github.com\n",
    "* Create a new repository called `Git_Branch`. Make it Private, and include a Readme file.\n",
    "* Then naviagate to your `repos` directory/folder in your home (`~`) directory.\n",
    "* Clone the new repositroy you just created\n",
    "* Create a new branch called `Test`\n",
    "\n",
    "**Question:** Were you successful? If not, type below where you ran into trouble."
   ]
  },
  {
   "cell_type": "markdown",
   "metadata": {},
   "source": [
    " <font size=8 color=\"#009600\">&#9998;</font> Do This - Erase this first line of this cell and comment on whether you got this to work. (double-click on this text to edit this cell, and hit shift+enter to save the text)"
   ]
  },
  {
   "cell_type": "markdown",
   "metadata": {},
   "source": [
    "---\n",
    "# 2: Pulling in a new branch (Consumer)\n",
    "Creating a branch is a great way to seperate your work from the \"master\" branch. However, if changes are done on the \"master\" branch we need to know how to update our branch to reflect those changes.\n",
    "\n",
    "**Video:** Watch the following video for a brief overview git merging and a demo of merging a branch:  "
   ]
  },
  {
   "cell_type": "code",
   "execution_count": null,
   "metadata": {},
   "outputs": [],
   "source": [
    "from IPython.display import YouTubeVideo\n",
    "from datetime import timedelta\n",
    "YouTubeVideo(\"Byp7TFk5jYw\",width=640,height=360)"
   ]
  },
  {
   "cell_type": "markdown",
   "metadata": {},
   "source": [
    " **Summary**: Here are the commands that were used in the video.  \n",
    " ```\n",
    " [AS DEVELOPER (aka working on master branch of git repository)]\n",
    " git branch\n",
    " cat > [FILENAME]  (Use ctrl + d to exit out of file editing)\n",
    " vi [FILENAME]\n",
    " git add [FILE1] [FILE2]\n",
    " git commit -m \"[MESSAGE]\"\n",
    " git status\n",
    " git push \n",
    " [AS CONSUMER (aka working with master branch of cloned repository, and also secondary branch)]\n",
    " git pull   (Pulls changes from master branch on git hub to master branch on own computer)\n",
    " git status\n",
    " git checkout [BRANCH]  (Switching to secondary branch on computer)\n",
    " git merge origin master\n",
    " vi [FILE_THAT_HAD_CONFLICT]  (Note while in \"command mode\" you can press d + d to delete the line your cursor is on)\n",
    " git add [FILE_CHANGED_ABOVE]\n",
    " git commit -m \"Successful merge of branches\"\n",
    " ```\n",
    " \n",
    "So now we have two branches. The master branch has all of the changes made by the primary developer (ex. the instructor). The second branch has a name you provide (in our case it should be called \"Test\"). This secondary branch is where you do all of your work and commit your changes. Now you want to update your branch with changes from the master. To do this we just need to run the `git merge` command and fix any conflicts.\n",
    "\n",
    "\n",
    " **Try this**: Follow along with the video and perform all of the same actions as the video. This will be utilizing the repository you made in the pervious section, if you were not successful in the last section please pay close attention to the video as we will be utilizing this in class.\n",
    " \n",
    "**Question:** Were you able to create and solve your own branch merge conflict successfully? If so, using `git log` copy and paste the last entry into the comment cell below (note you can press `q` to exit the `git log` pager). If you not, where did you run into trouble?"
   ]
  },
  {
   "cell_type": "markdown",
   "metadata": {},
   "source": [
    " <font size=8 color=\"#009600\">&#9998;</font> Do This - Erase this first line of this cell and comment on whether you got this to work. (double-click on this text to edit this cell, and hit shift+enter to save the text)"
   ]
  },
  {
   "cell_type": "markdown",
   "metadata": {},
   "source": [
    "---\n",
    "# 3: Git Bisect\n",
    "In class, you will be asked to use the command `git bisect`. It is good practice to be able to figure out how to use commands on your own and utlize the internet to find answers. For this next section try to answer all of the questions by applying knowledge learned from \"googling\" about `git bisect`.   \n",
    "*Note: The last question asks what resources you used.*"
   ]
  },
  {
   "cell_type": "markdown",
   "metadata": {},
   "source": [
    "**Question:** What does `git bisect` do, and why would you use it?\n",
    "\n",
    "<font size=8 color=\"#009600\">&#9998;</font> Do This -  Write your answer here."
   ]
  },
  {
   "cell_type": "markdown",
   "metadata": {},
   "source": [
    "**Question:** How do you initiate `git bisect`?\n",
    "\n",
    "<font size=8 color=\"#009600\">&#9998;</font> Do This -  Write your answer here.\n"
   ]
  },
  {
   "cell_type": "markdown",
   "metadata": {},
   "source": [
    "*For the next set of questions use this example to answer them.*\n",
    "\n",
    "> Say you have a repository that has 8 commits, lets call them \"a\",\"b\",\"c\",\"d\",\"e\",\"f\",\"g\", and \"h\" (commit \"h\" is the latest commit). There is a bug in one of the commits that causes a plot to break, but you are not sure which commit broke the plot. However, you do remember the plot was created and finished in commit \"b\"."
   ]
  },
  {
   "cell_type": "markdown",
   "metadata": {},
   "source": [
    " **Question:** How do you signify the current commit is bad? How do you signify a commit you are not currently on is bad? What commit would be good to label as the first \"bad\" commit?\n",
    "\n",
    "<font size=8 color=\"#009600\">&#9998;</font> Do This -  Write your answer here."
   ]
  },
  {
   "cell_type": "markdown",
   "metadata": {},
   "source": [
    " **Question:** How do you signify the current commit is good? How do you signify a commit you are not currently on is good? What commit would be good to label as the first \"good\" commit?\n",
    "\n",
    "<font size=8 color=\"#009600\">&#9998;</font> Do This -  Write your answer here."
   ]
  },
  {
   "cell_type": "markdown",
   "metadata": {},
   "source": [
    " **Question:** If you labeled commit \"b\" as a good commit and commit \"f\" as bad commit. What commit do you think `git bisect` will have you check next?\n",
    " \n",
    "<font size=8 color=\"#009600\">&#9998;</font> Do This -  Write your answer here."
   ]
  },
  {
   "cell_type": "markdown",
   "metadata": {},
   "source": [
    "**Question:** How do you end `git bisect`?\n",
    "\n",
    "<font size=8 color=\"#009600\">&#9998;</font> Do This -  Write your answer here."
   ]
  },
  {
   "cell_type": "markdown",
   "metadata": {},
   "source": [
    "**Question:** What resources did you use? Paste the URL's below.\n",
    "\n",
    "<font size=8 color=\"#009600\">&#9998;</font> Do This -  Write your answer here."
   ]
  },
  {
   "cell_type": "markdown",
   "metadata": {},
   "source": [
    "----\n",
    "# Assignment wrap-up\n",
    "\n",
    "Please fill out the form that appears when you run the code below.  **You must completely fill this out in order to receive credit for the assignment!**"
   ]
  },
  {
   "cell_type": "code",
   "execution_count": null,
   "metadata": {},
   "outputs": [],
   "source": [
    "#from IPython.display import HTML\n",
    "#HTML(\n",
    "\"\"\"\n",
    "<iframe \n",
    "\tsrc=\"FIX_ME\"   # Add in URL and delete this comment\n",
    "\twidth=\"800px\" \n",
    "\theight=\"600px\" \n",
    "\tframeborder=\"0\" \n",
    "\tmarginheight=\"0\" \n",
    "\tmarginwidth=\"0\">\n",
    "\tLoading...\n",
    "</iframe>\n",
    "\"\"\"\n",
    "#)"
   ]
  },
  {
   "cell_type": "markdown",
   "metadata": {},
   "source": [
    "---------\n",
    "### Congratulations, you're done with your pre-class assignment!\n",
    "\n",
    "Now, you just need to submit this assignment by uploading it to the course <a href=\"https://d2l.msu.edu/\">Desire2Learn</a> web page for today's submission folder (Don't forget to add your name in the first cell)."
   ]
  },
  {
   "cell_type": "markdown",
   "metadata": {},
   "source": [
    "&#169; Copyright FIX_ME,  Michigan State University Board of Trustees??"
   ]
  },
  {
   "cell_type": "code",
   "execution_count": null,
   "metadata": {},
   "outputs": [],
   "source": []
  }
 ],
 "metadata": {
  "kernelspec": {
   "display_name": "Python 3",
   "language": "python",
   "name": "python3"
  },
  "language_info": {
   "codemirror_mode": {
    "name": "ipython",
    "version": 3
   },
   "file_extension": ".py",
   "mimetype": "text/x-python",
   "name": "python",
   "nbconvert_exporter": "python",
   "pygments_lexer": "ipython3",
   "version": "3.7.7"
  }
 },
 "nbformat": 4,
 "nbformat_minor": 4
}
