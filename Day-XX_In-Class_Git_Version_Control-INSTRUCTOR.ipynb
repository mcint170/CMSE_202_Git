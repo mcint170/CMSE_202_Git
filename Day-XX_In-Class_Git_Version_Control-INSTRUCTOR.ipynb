{
 "cells": [
  {
   "cell_type": "markdown",
   "metadata": {},
   "source": [
    "###ANSWER\n",
    "(for making sure this gets removed)\n",
    "\n",
    "### INSTRUCTOR CONTENT -- REMOVE THIS IN STUDENT VERSION\n",
    "#### The goals for this class are:\n",
    "\n",
    "* The **main goal** is ...\n",
    "* Students tend to get hung for a while on ...\n",
    "* Some students will end ... . **This is not the purpose of the assignment**. You should try to encourage them to really ... \n",
    "* One tricky bit is whether or not students are able to...\n",
    "* **IMPORTANT NOTE**: ..."
   ]
  },
  {
   "cell_type": "markdown",
   "metadata": {},
   "source": [
    "## <p style=\"text-align: right;\"> &#9989; Put your name here</p>\n",
    "#### <p style=\"text-align: right;\"> &#9989; Put your group member names here</p>"
   ]
  },
  {
   "cell_type": "markdown",
   "metadata": {},
   "source": [
    "# Day XX In-Class Assignment: Git Version Control\n",
    "\n",
    "<img src=\"https://git-scm.com/images/logos/downloads/Git-Logo-2Color.png\" width=400px>\n",
    "* This assignment is based off content created by Dr. Dirk Colbry"
   ]
  },
  {
   "cell_type": "markdown",
   "metadata": {},
   "source": [
    "\n",
    "\n",
    "### Learning goals:\n",
    "\n",
    "By the end of this assignment, you should be able to:\n",
    "\n",
    "* Be comfotable using Git for Version Control \n",
    "* Solve merge conflicts of files using multiple methods\n",
    "* Be able to navigate commit hash's and bring back a older verison of a file\n",
    "\n",
    "\n",
    "\n",
    "# Problem Description\n",
    "Git is a powerful tool that can be used both personally and collaboratively. However, like many powerful tools the operation of Git has a bit of a learning curve. There are many different tools and commands which allow for many different and interesting actions to be done.\n",
    "\n",
    "The purpose of the Pre-class and this In-class are to get you familiar with using Git and its capabilities. The commands learned will help with this class, as well as beyond. Git is a very popular tool among research groups, as well as industry.\n",
    "\n",
    "The concepts will will explore today will utilize Git's version control"
   ]
  },
  {
   "cell_type": "markdown",
   "metadata": {},
   "source": [
    "### Agenda for today's class\n",
    "\n",
    "</p>\n",
    "\n",
    "1. Pre-class assignment review\n",
    "1. Cloning a repository and \n",
    "1. Picking the best Feature Vectors\n",
    "1. Eigenfaces (just for fun -- and knowledge!)\n"
   ]
  },
  {
   "cell_type": "markdown",
   "metadata": {},
   "source": [
    "---\n",
    "# 1: Pre-class assignment review\n",
    "\n",
    "Did anyone have any specific issues with the pre-class assignment?\n",
    "\n",
    "Let's take a moment to highlight some key concepts. Discuss with your table the following prompts and write down a brief definition of each of these concepts.\n",
    "\n",
    "**Question:** Discuss what we are referring to when we say \"repository\".\n",
    "\n",
    "&#9989; Do This -  Write your disussion notes here.\n",
    "\n",
    "**Question:** Discuss what we mean by \"version history\" and \"version control\"\n",
    "\n",
    "&#9989; Do This -  Write your disussion notes here.\n",
    "\n",
    "**Question:** Discuss the difference between `git add`, `git commit`, and `git push`\n",
    "\n",
    "&#9989; Do This -  Write your disussion notes here.\n",
    "\n",
    "**Question:** Discuss what you must do to `.ipynb` notebook files before adding and commiting them.\n",
    "\n",
    "&#9989; Do This -  Write your disussion notes here.\n"
   ]
  },
  {
   "cell_type": "markdown",
   "metadata": {},
   "source": [
    "*Below are all of the important commands we learned in the pre-class assignment. Please review these and if any were unclear to you please ask.*\n",
    "\n",
    "```\n",
    "cd [NAME_OF_FOLDER_CREATED]\n",
    "cd -  -->  (Moves back to previous directory you just came from and prints that directories name)\n",
    "ls\n",
    "pwd\n",
    "clear\n",
    "jupyter notebook\n",
    "cp [FILENAME] [NEW_FILENAME]\n",
    "rm [FILENAME]\n",
    "cat [FILENEAME]\n",
    "cat > [FILENAME] --> (Shortcut way of creating new file and adding text to it)\n",
    "vi [FILENAME]  -->  (Opens file in Vim text editor)\n",
    "git config --global user.name \"Your name here\"\n",
    "git config --global user.email \"your_email@example.com\"\n",
    "git status\n",
    "git log\n",
    "git checkout [HASH]\n",
    "git checkout master\n",
    "git checkout [FILENAME]\n",
    "git pull\n",
    "git fetch origin\n",
    "git diff [FILENAME]\n",
    "git init .\n",
    "git add [FILENAME]\n",
    "git add [FOLDERNAME]/[FILENAME]  -->  (You can add files that are inside of other folders)\n",
    "git commit -m \"[COMMIT_MESSAGE]\"\n",
    "git reset\n",
    "git push\n",
    "```"
   ]
  },
  {
   "cell_type": "markdown",
   "metadata": {},
   "source": [
    "---\n",
    "# 2: Cloning a repository and viewing its history\n",
    "Things to be done\n",
    "* Find repository to clone, the repository most have an `.ipynb` notebook in it. \n",
    "* Instruct them to put the repostiory in ~/CMSE202/repos/ \n",
    "* Then using `jupyter notebook` (or `conda_win jupyter notebook`) to open up jupyter notebook in that directory\n",
    "* Run the file and talk about it?"
   ]
  },
  {
   "cell_type": "markdown",
   "metadata": {},
   "source": [
    "---\n",
    "# 3: Forking a Repository and Collaborating with Others\n",
    "Things to be done\n",
    "* Create a repository that has the following\n",
    "    * Bugs or something??? --> Still need to figure that out\n",
    "* Have a student for each \"table\" or \"group\" be the one who can share thier screen\n",
    "* Each student fills out the `.ipnyb` notebook and does thier own thing.\n",
    "* Then each student pull's, add's, and commmits. And the ones that submitted first who got no error has to go back and do something\n",
    "    * Look into how the names work and how merge conlficts work and how they work with .ipynb"
   ]
  },
  {
   "cell_type": "markdown",
   "metadata": {},
   "source": [
    "---\n",
    "# 4: Version Control\n",
    "Things to be done\n",
    "* Use the repository cloned earlier, but have another folder that they don't touch  \n",
    "    * Maybe have them create thier own folder and copy the file so they can push and stuff with no issues? Also they can practice git add FOLDER/FILE  \n",
    "* Have the file broken\n",
    "* Have them checkout the branch and discuss what it does\n",
    "* THen have them go back to master\n",
    "* Then checkout the file then, copy and rename it.\n",
    "* Then the person that didn't do a commit earlier updates this file?\n",
    "* Then those that did a merge conflict before create their own folder\n",
    "* Then have them edit with thier name and info and have them add commit and push.\n",
    "* Then copy and paste the repository and all into thier CMSE202-turnin- and add and commit that"
   ]
  },
  {
   "cell_type": "markdown",
   "metadata": {},
   "source": [
    "----\n",
    "# 5. More Git practice: Git repository \"Round Robin\"\n",
    "**If time allows**, work through this activity. In this activity you'll be continuing to play around with Git and to get some practice for future homeworks."
   ]
  },
  {
   "cell_type": "markdown",
   "metadata": {},
   "source": [
    "**Step 1:** Go to [http://github.com/]() individually create a git repository.  Call this repository USERNAME_git_test where USERNAME is your MSUNetID. **Important**: if you haven't gained access to the GitHub [Student Pack](https://education.github.com/pack) yet, make sure to submit that request now."
   ]
  },
  {
   "cell_type": "markdown",
   "metadata": {},
   "source": [
    "<font size=6 color=\"#009600\">&#9998;</font> Note any problems you had with the above step (or any questions) here."
   ]
  },
  {
   "cell_type": "markdown",
   "metadata": {},
   "source": [
    "**Step 2:** Clone the repository into your CMSE202/repositories directory. The repository is probably still empty so you will get a warning."
   ]
  },
  {
   "cell_type": "markdown",
   "metadata": {},
   "source": [
    "<font size=6 color=\"#009600\">&#9998;</font> Note any problems you had with the above step (or any questions) here."
   ]
  },
  {
   "cell_type": "markdown",
   "metadata": {},
   "source": [
    "**Step 3:** Create a new text file (Name the file README.md or README.txt) inside of the repository folder. Include the following information in the readme file:\n",
    "\n",
    "* Name\n",
    "* Email Address\n",
    "* What is your major? \n",
    "* What year are you in School?\n",
    "* Where are you from?\n",
    "* What is your programming background?\n"
   ]
  },
  {
   "cell_type": "markdown",
   "metadata": {},
   "source": [
    "<font size=6 color=\"#009600\">&#9998;</font> Note any problems you had with the above step (or any questions) here."
   ]
  },
  {
   "cell_type": "markdown",
   "metadata": {},
   "source": [
    "**Step 4:** Add and commit the change to your repository.  Make sure you push the change to the central repository. "
   ]
  },
  {
   "cell_type": "markdown",
   "metadata": {},
   "source": [
    "<font size=6 color=\"#009600\">&#9998;</font> Note any problems you had with the above step (or any questions) here."
   ]
  },
  {
   "cell_type": "markdown",
   "metadata": {},
   "source": [
    "**Step 5:** Check the website and make sure you see the file and can access it. "
   ]
  },
  {
   "cell_type": "markdown",
   "metadata": {},
   "source": [
    "<font size=6 color=\"#009600\">&#9998;</font> Note any problems you had with the above step (or any questions) here."
   ]
  },
  {
   "cell_type": "markdown",
   "metadata": {},
   "source": [
    "**Step 6:** Add 2 of your groupmates and the instructors to the project using the web interface. To do this, go to the repository settings tab and look for the section labeled \"Collaborators & teams\". Make sure that each collaborator has \"Write\" access."
   ]
  },
  {
   "cell_type": "markdown",
   "metadata": {},
   "source": [
    "<font size=6 color=\"#009600\">&#9998;</font> Note any problems you had with the above step (or any questions) here."
   ]
  },
  {
   "cell_type": "markdown",
   "metadata": {},
   "source": [
    "**Step 7:** Have you groupmates clone your repository and clone the repositories that you've been added to."
   ]
  },
  {
   "cell_type": "markdown",
   "metadata": {},
   "source": [
    "<font size=6 color=\"#009600\">&#9998;</font> Note any problems you had with the above step (or any questions) here."
   ]
  },
  {
   "cell_type": "markdown",
   "metadata": {},
   "source": [
    "**Step 8:** Add your name and email address to the next available line in the README file for each of your groupmates repositories. "
   ]
  },
  {
   "cell_type": "markdown",
   "metadata": {},
   "source": [
    "<font size=6 color=\"#009600\">&#9998;</font> Note any problems you had with the above step (or any questions) here."
   ]
  },
  {
   "cell_type": "markdown",
   "metadata": {},
   "source": [
    "**Step 9:** Add and Commit your change to the server.  NOTE: this step may be tricky if more then one member of the group tries to change the same file at the same time.  This happens often when working with Git repositories! Your job is to manage the file conflicts."
   ]
  },
  {
   "cell_type": "markdown",
   "metadata": {},
   "source": [
    "<font size=6 color=\"#009600\">&#9998;</font> Note any problems you had with the above step (or any questions) here."
   ]
  },
  {
   "cell_type": "markdown",
   "metadata": {},
   "source": [
    "**Step 10:** Do a git pull for all of your repositories.  If done correctly, each repository will have the names and emails for all of the team members in the README file.  "
   ]
  },
  {
   "cell_type": "markdown",
   "metadata": {},
   "source": [
    "<font size=6 color=\"#009600\">&#9998;</font> Note any problems you had with the above step (or any questions) here."
   ]
  },
  {
   "cell_type": "markdown",
   "metadata": {},
   "source": [
    "**Question:** What command(s) should the instructor use to download your group repositories? "
   ]
  },
  {
   "cell_type": "markdown",
   "metadata": {},
   "source": [
    "<font size=8 color=\"#009600\">&#9998;</font> Do This - Erase the contents of this cell and replace it with your answer to the above question!  (double-click on this text to edit this cell, and hit shift+enter to save the text)"
   ]
  },
  {
   "cell_type": "markdown",
   "metadata": {},
   "source": [
    "-----\n",
    "### Congratulations, we're done!\n",
    "\n",
    "Now, you just need to submit this assignment by uploading it to the course <a href=\"https://d2l.msu.edu/\">Desire2Learn</a> web page for today's submission folder (Don't forget to add your names in the first cell)."
   ]
  },
  {
   "cell_type": "markdown",
   "metadata": {},
   "source": [
    "&#169; Copyright FIX_ME,  Michigan State University Board of Trustees??"
   ]
  }
 ],
 "metadata": {
  "kernelspec": {
   "display_name": "Python 3",
   "language": "python",
   "name": "python3"
  },
  "language_info": {
   "codemirror_mode": {
    "name": "ipython",
    "version": 3
   },
   "file_extension": ".py",
   "mimetype": "text/x-python",
   "name": "python",
   "nbconvert_exporter": "python",
   "pygments_lexer": "ipython3",
   "version": "3.7.7"
  }
 },
 "nbformat": 4,
 "nbformat_minor": 4
}
